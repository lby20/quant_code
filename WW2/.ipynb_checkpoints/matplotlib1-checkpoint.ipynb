{
 "cells": [
  {
   "cell_type": "code",
   "execution_count": null,
   "metadata": {},
   "outputs": [],
   "source": [
    "import matplotlib.pyplot as plt\n",
    "\n",
    "classA_grades = [80,85,90,95,100]\n",
    "classB_grades = [30,60,40,50,80]\n",
    "grades_range = [0,25, 50,75,100]\n",
    "\n",
    "plt.plot( grades_range, classA_grades, 'ro')\n",
    "plt.plot( grades_range, classB_grades, 'go')\n"
   ]
  },
  {
   "cell_type": "code",
   "execution_count": null,
   "metadata": {},
   "outputs": [],
   "source": [
    "import matplotlib.pyplot as plt\n",
    "from matplotlib.font_manager import FontProperties\n",
    "import numpy as np\n",
    "\n",
    "t = np.arange(0.0, 2.0, 0.01)\n",
    "s = 1 + np.sin(2 * np.pi * t)\n",
    "\n",
    "plt.plot( t ,  s , 'r' )\n",
    "\n",
    "\n",
    "font = FontProperties()\n",
    "plt.title(u'Voltage / Time', fontproperties=font)\n",
    "plt.xlabel(u'time (s)', fontproperties=font)\n",
    "plt.ylabel(u'voltage (mV)', fontproperties=font)\n",
    "\n",
    "plt.savefig(\"test.png\")\n",
    "\n"
   ]
  },
  {
   "cell_type": "code",
   "execution_count": null,
   "metadata": {},
   "outputs": [],
   "source": [
    "from random import randint \n",
    "results = []\n",
    "for roll_num in range(1000):    \n",
    "    result = randint(1,6)\n",
    "    results.append(result)\n",
    "\n",
    "frequencies = []\n",
    "for value in range(1,7):\n",
    "    frequency = results.count(value)    \n",
    "    frequencies.append(frequency)\n"
   ]
  },
  {
   "cell_type": "code",
   "execution_count": null,
   "metadata": {},
   "outputs": [],
   "source": [
    "import pygal\n",
    "\n",
    "hist = pygal.Bar()\n",
    "hist.title = 'Result of rolling one D6 1000 times.'\n",
    "hist.x_labels = ['1','2','3','4','5','6']\n",
    "hist.x_title = 'Result'\n",
    "hist.y_title = 'Frequency of Result'\n",
    "hist.add('D6',frequencies)\n",
    "hist.render_to_file('visual.svg')\n"
   ]
  }
 ],
 "metadata": {
  "kernelspec": {
   "display_name": "Python 3",
   "language": "python",
   "name": "python3"
  },
  "language_info": {
   "codemirror_mode": {
    "name": "ipython",
    "version": 3
   },
   "file_extension": ".py",
   "mimetype": "text/x-python",
   "name": "python",
   "nbconvert_exporter": "python",
   "pygments_lexer": "ipython3",
   "version": "3.7.6"
  }
 },
 "nbformat": 4,
 "nbformat_minor": 4
}
